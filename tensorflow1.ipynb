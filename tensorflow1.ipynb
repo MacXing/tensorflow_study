{
 "cells": [
  {
   "cell_type": "code",
   "execution_count": 1,
   "metadata": {},
   "outputs": [
    {
     "name": "stderr",
     "output_type": "stream",
     "text": [
      "D:\\Anaconda\\Anaconda3\\lib\\site-packages\\h5py\\__init__.py:34: FutureWarning: Conversion of the second argument of issubdtype from `float` to `np.floating` is deprecated. In future, it will be treated as `np.float64 == np.dtype(float).type`.\n",
      "  from ._conv import register_converters as _register_converters\n"
     ]
    }
   ],
   "source": [
    "import numpy as np\n",
    "import tensorflow as tf"
   ]
  },
  {
   "cell_type": "code",
   "execution_count": 9,
   "metadata": {},
   "outputs": [
    {
     "name": "stdout",
     "output_type": "stream",
     "text": [
      "Tensor(\"MatMul_5:0\", shape=(2, 2), dtype=int32)\n",
      "[[2 2]\n",
      " [2 2]]\n"
     ]
    }
   ],
   "source": [
    "#初始化tensorflow变量\n",
    "a = tf.Variable([[2,2],[2,2]])\n",
    "b = tf.Variable([[1,0],[0,1]])\n",
    "y = tf.matmul(a,b)\n",
    "print(y)\n",
    "#初始化操作\n",
    "init_op = tf.global_variables_initializer()\n",
    "#执行操作\n",
    "with tf.Session() as sess:\n",
    "    sess.run(init_op)\n",
    "    print(y.eval())"
   ]
  },
  {
   "cell_type": "code",
   "execution_count": 19,
   "metadata": {},
   "outputs": [
    {
     "data": {
      "text/plain": [
       "<tf.Tensor 'zeros_4:0' shape=(2, 2) dtype=float32>"
      ]
     },
     "execution_count": 19,
     "metadata": {},
     "output_type": "execute_result"
    }
   ],
   "source": [
    "tf.zeros([2,2])"
   ]
  },
  {
   "cell_type": "code",
   "execution_count": 20,
   "metadata": {},
   "outputs": [
    {
     "data": {
      "text/plain": [
       "<tf.Tensor 'zeros_like_1:0' shape=(2, 3) dtype=int32>"
      ]
     },
     "execution_count": 20,
     "metadata": {},
     "output_type": "execute_result"
    }
   ],
   "source": [
    "tensor = [[1,2,3],[4,5,6]]\n",
    "tf.zeros_like(tensor)"
   ]
  },
  {
   "cell_type": "code",
   "execution_count": 25,
   "metadata": {},
   "outputs": [
    {
     "name": "stdout",
     "output_type": "stream",
     "text": [
      "[1 2 3 4 5 6 7]\n"
     ]
    }
   ],
   "source": [
    "tensor = tf.constant([1,2,3,4,5,6,7])\n",
    "tensor\n",
    "with tf.Session() as sess:\n",
    "    sess.run(tensor)\n",
    "    print(tensor.eval())"
   ]
  },
  {
   "cell_type": "code",
   "execution_count": 30,
   "metadata": {},
   "outputs": [
    {
     "name": "stdout",
     "output_type": "stream",
     "text": [
      "[[-2 -2 -2]\n",
      " [-2 -2 -2]]\n"
     ]
    }
   ],
   "source": [
    "tensor = tf.constant(-2,shape=[2,3])\n",
    "with tf.Session() as sess:\n",
    "    sess.run(tensor)\n",
    "    print(tensor.eval())"
   ]
  },
  {
   "cell_type": "code",
   "execution_count": 36,
   "metadata": {},
   "outputs": [
    {
     "name": "stdout",
     "output_type": "stream",
     "text": [
      "[10.  17.5 25. ]\n"
     ]
    }
   ],
   "source": [
    "tensor = tf.linspace(10.0,25.0,3 , name=\"linspace\")\n",
    "with tf.Session() as sess:\n",
    "    sess.run(tensor)\n",
    "    print(tensor.eval())"
   ]
  },
  {
   "cell_type": "code",
   "execution_count": 38,
   "metadata": {},
   "outputs": [
    {
     "name": "stdout",
     "output_type": "stream",
     "text": [
      "[ 3  6  9 12 15]\n"
     ]
    }
   ],
   "source": [
    "tensor = tf.range(3,18,3)\n",
    "with tf.Session() as sess:\n",
    "    sess.run(tensor)\n",
    "    print(tensor.eval())"
   ]
  },
  {
   "cell_type": "code",
   "execution_count": 42,
   "metadata": {},
   "outputs": [
    {
     "name": "stdout",
     "output_type": "stream",
     "text": [
      "[[-1.084341    2.5952845  -3.0958624 ]\n",
      " [ 0.22219884  1.2370648  -2.6280513 ]]\n",
      "[[3 4]\n",
      " [5 6]\n",
      " [1 2]]\n"
     ]
    }
   ],
   "source": [
    "#tensor建立高斯分布\n",
    "norm = tf.random_normal([2,3],mean=-1,stddev=4)\n",
    "#随机洗牌\n",
    "c = tf.constant([[1,2],[3,4],[5,6]])\n",
    "shuff = tf.random_shuffle(c)\n",
    "with tf.Session() as sess:\n",
    "    print(sess.run(norm))\n",
    "    print(sess.run(shuff))"
   ]
  },
  {
   "cell_type": "code",
   "execution_count": 44,
   "metadata": {},
   "outputs": [
    {
     "name": "stdout",
     "output_type": "stream",
     "text": [
      "0\n",
      "1\n",
      "2\n",
      "3\n",
      "4\n",
      "5\n",
      "6\n",
      "7\n",
      "8\n",
      "9\n",
      "10\n"
     ]
    }
   ],
   "source": [
    "state = tf.Variable(0)\n",
    "new_value = tf.add(state,tf.Variable(1))\n",
    "update = tf.assign(state,new_value)\n",
    "\n",
    "with tf.Session() as sess:\n",
    "    sess.run(tf.global_variables_initializer())\n",
    "    print(sess.run(state))\n",
    "    for _ in range(10):\n",
    "        print(sess.run(update))"
   ]
  },
  {
   "cell_type": "code",
   "execution_count": 58,
   "metadata": {},
   "outputs": [
    {
     "name": "stdout",
     "output_type": "stream",
     "text": [
      "4\n",
      "8\n",
      "16\n",
      "32\n",
      "64\n",
      "128\n",
      "256\n",
      "512\n",
      "1024\n",
      "2048\n",
      "D:\\workspace\\tensorflow\\demo.mdl\n"
     ]
    }
   ],
   "source": [
    "value = tf.Variable(2)\n",
    "state = tf.multiply(value,tf.Variable(2))\n",
    "new_value = tf.assign(value,state)\n",
    "\n",
    "with tf.Session() as sess:\n",
    "    sess.run(tf.global_variables_initializer())\n",
    "    for _ in range(10):\n",
    "        print(sess.run(new_value))\n",
    "    save_path = tf.train.Saver().save(sess,r\"D:\\workspace\\tensorflow\\demo.mdl\")\n",
    "    print(save_path)"
   ]
  },
  {
   "cell_type": "code",
   "execution_count": 61,
   "metadata": {},
   "outputs": [
    {
     "data": {
      "text/plain": [
       "<tf.Tensor 'Const_14:0' shape=(3, 3) dtype=float64>"
      ]
     },
     "execution_count": 61,
     "metadata": {},
     "output_type": "execute_result"
    }
   ],
   "source": [
    "#numpy 转化为tensor\n",
    "a = np.zeros((3,3))\n",
    "ta = tf.convert_to_tensor(a)"
   ]
  },
  {
   "cell_type": "code",
   "execution_count": 62,
   "metadata": {},
   "outputs": [
    {
     "name": "stdout",
     "output_type": "stream",
     "text": [
      "[array([14.], dtype=float32)]\n"
     ]
    }
   ],
   "source": [
    "input1 = tf.placeholder(tf.float32)\n",
    "input2 = tf.placeholder(tf.float32)\n",
    "output = tf.multiply(input1,input2)\n",
    "with tf.Session() as sess:\n",
    "    print(sess.run([output],feed_dict={input1:[7,],input2:[2]}))"
   ]
  },
  {
   "cell_type": "markdown",
   "metadata": {
    "collapsed": true
   },
   "source": [
    "# tensorflow 建立简单线性模型\n"
   ]
  },
  {
   "cell_type": "code",
   "execution_count": 1,
   "metadata": {},
   "outputs": [
    {
     "name": "stderr",
     "output_type": "stream",
     "text": [
      "D:\\Anaconda\\Anaconda3\\lib\\site-packages\\h5py\\__init__.py:34: FutureWarning: Conversion of the second argument of issubdtype from `float` to `np.floating` is deprecated. In future, it will be treated as `np.float64 == np.dtype(float).type`.\n",
      "  from ._conv import register_converters as _register_converters\n"
     ]
    }
   ],
   "source": [
    "import numpy as np\n",
    "import tensorflow as tf\n",
    "import matplotlib.pyplot as plt"
   ]
  },
  {
   "cell_type": "code",
   "execution_count": 3,
   "metadata": {},
   "outputs": [
    {
     "data": {
      "image/png": "[encoded data removed]",
      "text/plain": [
       "<matplotlib.figure.Figure at 0x1429ecf8>"
      ]
     },
     "metadata": {},
     "output_type": "display_data"
    }
   ],
   "source": [
    "#随机生成1000个点，符合高斯分布\n",
    "num_points = 1000\n",
    "vectors_set = []\n",
    "for i in range(num_points):\n",
    "    x1 = np.random.normal(0.0,0.55)\n",
    "    y1 = x1*0.1+0.3 +np.random.normal(0.0,0.03)\n",
    "    vectors_set.append([x1,y1])\n",
    "x_data = [v[0] for v in vectors_set]\n",
    "y_data = [v[1] for v in vectors_set]\n",
    "\n",
    "plt.scatter(x_data,y_data)\n",
    "plt.show()"
   ]
  },
  {
   "cell_type": "code",
   "execution_count": 16,
   "metadata": {},
   "outputs": [
    {
     "name": "stdout",
     "output_type": "stream",
     "text": [
      "W =  [1.143322] b =  [0.]  loss =  0.41213286\n",
      "W =  [0.83391297] b =  [0.2936862]  loss =  0.16176707\n",
      "W =  [0.614859] b =  [0.29573932]  loss =  0.08010251\n",
      "W =  [0.46114025] b =  [0.2971929]  loss =  0.039887745\n",
      "W =  [0.3532697] b =  [0.29821292]  loss =  0.020084435\n",
      "W =  [0.27757263] b =  [0.2989287]  loss =  0.010332519\n",
      "W =  [0.224453] b =  [0.299431]  loss =  0.0055302996\n",
      "W =  [0.18717685] b =  [0.2997835]  loss =  0.0031655012\n",
      "W =  [0.1610187] b =  [0.30003083]  loss =  0.0020009838\n",
      "W =  [0.14266248] b =  [0.30020443]  loss =  0.0014275297\n",
      "W =  [0.12978119] b =  [0.30032623]  loss =  0.001145139\n",
      "W =  [0.12074187] b =  [0.3004117]  loss =  0.0010060789\n",
      "W =  [0.11439863] b =  [0.30047166]  loss =  0.00093760027\n",
      "W =  [0.10994732] b =  [0.30051377]  loss =  0.00090387894\n",
      "W =  [0.10682367] b =  [0.3005433]  loss =  0.00088727317\n",
      "W =  [0.10463168] b =  [0.30056402]  loss =  0.0008790958\n",
      "W =  [0.10309347] b =  [0.30057856]  loss =  0.00087506894\n",
      "W =  [0.10201404] b =  [0.3005888]  loss =  0.0008730861\n",
      "W =  [0.10125657] b =  [0.30059594]  loss =  0.00087210967\n",
      "W =  [0.10072502] b =  [0.30060098]  loss =  0.00087162876\n",
      "W =  [0.10035201] b =  [0.3006045]  loss =  0.00087139185\n"
     ]
    },
    {
     "data": {
      "image/png": "[encoded data removed]",
      "text/plain": [
       "<matplotlib.figure.Figure at 0x196f6e48>"
      ]
     },
     "metadata": {},
     "output_type": "display_data"
    }
   ],
   "source": [
    "#生成1纬矩阵，取值【-1,1】之间的随机数\n",
    "W = tf.Variable(tf.random_uniform([1],-5.0,5.0),name=\"W\")\n",
    "b = tf.Variable(tf.zeros([1]),name = 'b')\n",
    "#y = wx+b\n",
    "y = W*x_data+b\n",
    "#构建损失函数，以预估值y和实际值y_data之间的均方误差作为损失\n",
    "loss = tf.reduce_mean(tf.square(y - y_data),name = \"loss\")\n",
    "#采用梯度下降法来优化参数\n",
    "optimizer = tf.train.GradientDescentOptimizer(0.5)\n",
    "#训练的过程就是最小化这个误差\n",
    "train = optimizer.minimize(loss,name = \"train\")\n",
    "\n",
    "with tf.Session() as sess:\n",
    "    sess.run(tf.global_variables_initializer())\n",
    "    print(\"W = \",sess.run(W),\"b = \",sess.run(b),\" loss = \",sess.run(loss))\n",
    "    for step in range(20):\n",
    "        sess.run(train)\n",
    "        print(\"W = \",sess.run(W),\"b = \",sess.run(b),\" loss = \",sess.run(loss))\n",
    "    plt.scatter(x_data,y_data,c = 'r')\n",
    "    plt.plot(x_data,sess.run(W)*x_data+sess.run(b))\n",
    "    plt.show()"
   ]
  },
  {
   "cell_type": "markdown",
   "metadata": {},
   "source": [
    "# mnist数据集"
   ]
  },
  {
   "cell_type": "code",
   "execution_count": 28,
   "metadata": {
    "collapsed": true
   },
   "outputs": [],
   "source": [
    "import numpy as np\n",
    "import tensorflow as tf\n",
    "import matplotlib.pyplot as plt \n",
    "from tensorflow.examples.tutorials.mnist import input_data"
   ]
  },
  {
   "cell_type": "code",
   "execution_count": 29,
   "metadata": {},
   "outputs": [
    {
     "name": "stdout",
     "output_type": "stream",
     "text": [
      "Extracting MNIST_data/train-images-idx3-ubyte.gz\n",
      "Extracting MNIST_data/train-labels-idx1-ubyte.gz\n",
      "Extracting MNIST_data/t10k-images-idx3-ubyte.gz\n",
      "Extracting MNIST_data/t10k-labels-idx1-ubyte.gz\n",
      "<class 'module'>\n",
      "Datasets(train=<tensorflow.contrib.learn.python.learn.datasets.mnist.DataSet object at 0x000000001A9E2128>, validation=<tensorflow.contrib.learn.python.learn.datasets.mnist.DataSet object at 0x000000001ACC24A8>, test=<tensorflow.contrib.learn.python.learn.datasets.mnist.DataSet object at 0x000000001ACC22E8>)\n"
     ]
    }
   ],
   "source": [
    "mnist = input_data.read_data_sets(\"MNIST_data/\", one_hot=True)\n",
    "print(type(input_data))\n",
    "print(mnist)"
   ]
  },
  {
   "cell_type": "code",
   "execution_count": 43,
   "metadata": {},
   "outputs": [
    {
     "name": "stdout",
     "output_type": "stream",
     "text": [
      "(55000, 784)\n",
      "(55000, 10)\n",
      "(10000, 784)\n",
      "(10000, 10)\n"
     ]
    }
   ],
   "source": [
    "trainimg = mnist.train.images\n",
    "trainlabel = mnist.train.labels\n",
    "testimg = mnist.test.images\n",
    "testlabel = mnist.test.labels\n",
    "print(trainimg.shape)\n",
    "print(trainlabel.shape)\n",
    "print(testimg.shape)\n",
    "print(testlabel.shape)"
   ]
  },
  {
   "cell_type": "code",
   "execution_count": 55,
   "metadata": {},
   "outputs": [
    {
     "name": "stdout",
     "output_type": "stream",
     "text": [
      "[25564 11590 25737 53373 26430]\n"
     ]
    },
    {
     "data": {
      "image/png": "[encoded data removed]",
      "text/plain": [
       "<matplotlib.figure.Figure at 0x1b2c5048>"
      ]
     },
     "metadata": {},
     "output_type": "display_data"
    },
    {
     "data": {
      "image/png": "[encoded data removed]",
      "text/plain": [
       "<matplotlib.figure.Figure at 0x1c2cefd0>"
      ]
     },
     "metadata": {},
     "output_type": "display_data"
    },
    {
     "data": {
      "image/png": "[encoded data removed]",
      "text/plain": [
       "<matplotlib.figure.Figure at 0x1c328f98>"
      ]
     },
     "metadata": {},
     "output_type": "display_data"
    },
    {
     "data": {
      "image/png": "[encoded data removed]",
      "text/plain": [
       "<matplotlib.figure.Figure at 0x1d797f60>"
      ]
     },
     "metadata": {},
     "output_type": "display_data"
    },
    {
     "data": {
      "image/png": "[encoded data removed]",
      "text/plain": [
       "<matplotlib.figure.Figure at 0x1d7f3eb8>"
      ]
     },
     "metadata": {},
     "output_type": "display_data"
    }
   ],
   "source": [
    "nsample = 5\n",
    "randidx = np.random.randint(trainimg.shape[0],size = nsample)\n",
    "print(randidx)\n",
    "\n",
    "for i in randidx:\n",
    "    curr_img = np.reshape(trainimg[i,:],(28,28))\n",
    "    curr_label = np.argmax(trainlabel[i,:])\n",
    "    plt.matshow(curr_img,cmap= plt.get_cmap('gray'))\n",
    "    plt.title(\"\"+str(i)+\"th Training Data\" +\"Label is \"+str(curr_label))\n",
    "#     plt.title(\"\"+str(i)+\"th Testimg Data\" +\"Label is \"+str(curr_label))\n",
    "    plt.show()"
   ]
  },
  {
   "cell_type": "code",
   "execution_count": 61,
   "metadata": {},
   "outputs": [
    {
     "name": "stdout",
     "output_type": "stream",
     "text": [
      "<class 'numpy.ndarray'>\n",
      "(200, 784)\n",
      "(200, 10)\n"
     ]
    }
   ],
   "source": [
    "batch_size = 200\n",
    "batch_x,batch_y = mnist.train.next_batch(batch_size)\n",
    "print(type(batch_x))\n",
    "print(batch_x.shape)\n",
    "print(batch_y.shape)"
   ]
  },
  {
   "cell_type": "markdown",
   "metadata": {},
   "source": [
    "# 逻辑回归，分类mnist"
   ]
  },
  {
   "cell_type": "code",
   "execution_count": 1,
   "metadata": {},
   "outputs": [
    {
     "name": "stderr",
     "output_type": "stream",
     "text": [
      "D:\\Anaconda\\Anaconda3\\lib\\site-packages\\h5py\\__init__.py:34: FutureWarning: Conversion of the second argument of issubdtype from `float` to `np.floating` is deprecated. In future, it will be treated as `np.float64 == np.dtype(float).type`.\n",
      "  from ._conv import register_converters as _register_converters\n"
     ]
    }
   ],
   "source": [
    "import numpy as np\n",
    "import tensorflow as tf\n",
    "import matplotlib.pylab as plt\n",
    "from tensorflow.examples.tutorials.mnist import input_data"
   ]
  },
  {
   "cell_type": "code",
   "execution_count": 2,
   "metadata": {},
   "outputs": [
    {
     "name": "stdout",
     "output_type": "stream",
     "text": [
      "Extracting MNIST_data/train-images-idx3-ubyte.gz\n",
      "Extracting MNIST_data/train-labels-idx1-ubyte.gz\n",
      "Extracting MNIST_data/t10k-images-idx3-ubyte.gz\n",
      "Extracting MNIST_data/t10k-labels-idx1-ubyte.gz\n"
     ]
    }
   ],
   "source": [
    "mnist = input_data.read_data_sets(\"MNIST_data/\", one_hot=True)"
   ]
  },
  {
   "cell_type": "code",
   "execution_count": 3,
   "metadata": {},
   "outputs": [
    {
     "name": "stdout",
     "output_type": "stream",
     "text": [
      "(55000, 784)\n",
      "(55000, 10)\n",
      "(10000, 784)\n",
      "(10000, 10)\n"
     ]
    }
   ],
   "source": [
    "trainimg = mnist.train.images\n",
    "trainlabels = mnist.train.labels\n",
    "testimg = mnist.test.images\n",
    "testlabels = mnist.test.labels\n",
    "print(trainimg.shape)\n",
    "print(trainlabels.shape)\n",
    "print(testimg.shape)\n",
    "print(testlabels.shape)"
   ]
  },
  {
   "cell_type": "code",
   "execution_count": 4,
   "metadata": {
    "collapsed": true
   },
   "outputs": [],
   "source": [
    "#建立回归模型\n",
    "#占位一个图片矩阵\n",
    "x = tf.placeholder(\"float\",[None,28*28])\n",
    "#一张图片的分类矩阵\n",
    "y = tf.placeholder(\"float\",[None,10])\n",
    "W = tf.Variable(tf.zeros([28*28,10]))\n",
    "# with tf.Session() as sess:\n",
    "#     sess.run(tf.global_variables_initializer())\n",
    "#     print(sess.run(W).shape)\n",
    "b = tf.Variable(tf.zeros([10]))\n",
    "#LOGISITC REGRESSION MODEL\n",
    "actv = tf.nn.softmax(tf.matmul(x,W)+b)\n",
    "#损失函数\n",
    "loss = tf.reduce_mean(-tf.reduce_sum(y*tf.log(actv),reduction_indices=1))\n",
    "learning_rate = 0.01\n",
    "#优化器,梯度下降\n",
    "optm = tf.train.GradientDescentOptimizer(learning_rate).minimize(loss)"
   ]
  },
  {
   "cell_type": "code",
   "execution_count": 5,
   "metadata": {
    "collapsed": true
   },
   "outputs": [],
   "source": [
    "#预测，argmax(arr,0/1),传入一个数组，返回行或列的最大值索引\n",
    "pred = tf.equal(tf.argmax(actv,1),tf.argmax(y,1))\n",
    "#accuracy\n",
    "accr = tf.reduce_mean(tf.cast(pred,\"float\"))"
   ]
  },
  {
   "cell_type": "code",
   "execution_count": 10,
   "metadata": {},
   "outputs": [
    {
     "name": "stdout",
     "output_type": "stream",
     "text": [
      "Epoch:000/050 cost:1.176858337  train_acc:0.890 test_acc:0.853\n",
      "Epoch:005/050 cost:0.439693908  train_acc:0.910 test_acc:0.895\n",
      "Epoch:010/050 cost:0.384673994  train_acc:0.880 test_acc:0.905\n",
      "Epoch:015/050 cost:0.361634797  train_acc:0.850 test_acc:0.909\n",
      "Epoch:020/050 cost:0.340080030  train_acc:0.910 test_acc:0.912\n",
      "Epoch:025/050 cost:0.332265394  train_acc:0.900 test_acc:0.913\n",
      "Epoch:030/050 cost:0.325296794  train_acc:0.920 test_acc:0.916\n",
      "Epoch:035/050 cost:0.314772984  train_acc:0.870 test_acc:0.916\n",
      "Epoch:040/050 cost:0.308610545  train_acc:0.920 test_acc:0.917\n",
      "Epoch:045/050 cost:0.305255500  train_acc:0.940 test_acc:0.918\n",
      "Done\n"
     ]
    }
   ],
   "source": [
    "train_epochs = 50\n",
    "batch_size = 100\n",
    "display_step = 5\n",
    "\n",
    "sess = tf.Session()\n",
    "sess.run(tf.global_variables_initializer())\n",
    "\n",
    "for epoch in range(train_epochs):\n",
    "    avg_cost = 0\n",
    "    num_batch = int(mnist.train.num_examples/batch_size)\n",
    "    for i in range(num_batch):\n",
    "        batch_xs,batch_ys = mnist.train.next_batch(batch_size)\n",
    "        sess.run(optm,feed_dict={x:batch_xs,y:batch_ys})\n",
    "        feeds = {x:batch_xs,y:batch_ys}\n",
    "        avg_cost += sess.run(loss,feed_dict=feeds)/num_batch\n",
    "        \n",
    "    if epoch % display_step == 0 :\n",
    "        feeds_train = {x:batch_xs,y:batch_ys}\n",
    "        feeds_test = {x:testimg,y:testlabels}\n",
    "        train_acc = sess.run(accr,feed_dict = {x:batch_xs,y:batch_ys})\n",
    "        test_acc = sess.run(accr ,feed_dict= {x:mnist.test.images,y:mnist.test.labels})\n",
    "        print(\"Epoch:%03d/%03d cost:%.9f  train_acc:%.3f test_acc:%.3f\" \n",
    "                 %(epoch,train_epochs,avg_cost,train_acc,test_acc))\n",
    "print(\"Done\")"
   ]
  },
  {
   "cell_type": "code",
   "execution_count": null,
   "metadata": {
    "collapsed": true
   },
   "outputs": [],
   "source": []
  }
 ],
 "metadata": {
  "kernelspec": {
   "display_name": "Python 3",
   "language": "python",
   "name": "python3"
  },
  "language_info": {
   "codemirror_mode": {
    "name": "ipython",
    "version": 3
   },
   "file_extension": ".py",
   "mimetype": "text/x-python",
   "name": "python",
   "nbconvert_exporter": "python",
   "pygments_lexer": "ipython3",
   "version": "3.6.3"
  }
 },
 "nbformat": 4,
 "nbformat_minor": 2
}
